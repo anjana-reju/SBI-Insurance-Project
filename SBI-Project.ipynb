{
 "cells": [
  {
   "cell_type": "code",
   "execution_count": 1,
   "metadata": {},
   "outputs": [],
   "source": [
    "import pandas as pd\n",
    "import numpy as np\n",
    "import seaborn as sns\n",
    "import matplotlib.pyplot as plt\n",
    "from sklearn.model_selection import train_test_split\n",
    "from sklearn.naive_bayes import GaussianNB\n",
    "from sklearn.svm import SVC\n",
    "from sklearn.tree import DecisionTreeClassifier\n",
    "from sklearn.neighbors import KNeighborsClassifier\n",
    "from sklearn.metrics import accuracy_score,confusion_matrix,classification_report\n",
    "import warnings\n",
    "warnings.filterwarnings('ignore')"
   ]
  },
  {
   "cell_type": "code",
   "execution_count": 2,
   "metadata": {},
   "outputs": [
    {
     "data": {
      "text/html": [
       "<div>\n",
       "<style scoped>\n",
       "    .dataframe tbody tr th:only-of-type {\n",
       "        vertical-align: middle;\n",
       "    }\n",
       "\n",
       "    .dataframe tbody tr th {\n",
       "        vertical-align: top;\n",
       "    }\n",
       "\n",
       "    .dataframe thead th {\n",
       "        text-align: right;\n",
       "    }\n",
       "</style>\n",
       "<table border=\"1\" class=\"dataframe\">\n",
       "  <thead>\n",
       "    <tr style=\"text-align: right;\">\n",
       "      <th></th>\n",
       "      <th>age</th>\n",
       "      <th>sex</th>\n",
       "      <th>bmi</th>\n",
       "      <th>children</th>\n",
       "      <th>smoker</th>\n",
       "      <th>region</th>\n",
       "      <th>charges</th>\n",
       "      <th>insuranceclaim</th>\n",
       "    </tr>\n",
       "  </thead>\n",
       "  <tbody>\n",
       "    <tr>\n",
       "      <th>0</th>\n",
       "      <td>19</td>\n",
       "      <td>0</td>\n",
       "      <td>27.900</td>\n",
       "      <td>0</td>\n",
       "      <td>1</td>\n",
       "      <td>3</td>\n",
       "      <td>16884.92400</td>\n",
       "      <td>1</td>\n",
       "    </tr>\n",
       "    <tr>\n",
       "      <th>1</th>\n",
       "      <td>18</td>\n",
       "      <td>1</td>\n",
       "      <td>33.770</td>\n",
       "      <td>1</td>\n",
       "      <td>0</td>\n",
       "      <td>2</td>\n",
       "      <td>1725.55230</td>\n",
       "      <td>1</td>\n",
       "    </tr>\n",
       "    <tr>\n",
       "      <th>2</th>\n",
       "      <td>28</td>\n",
       "      <td>1</td>\n",
       "      <td>33.000</td>\n",
       "      <td>3</td>\n",
       "      <td>0</td>\n",
       "      <td>2</td>\n",
       "      <td>4449.46200</td>\n",
       "      <td>0</td>\n",
       "    </tr>\n",
       "    <tr>\n",
       "      <th>3</th>\n",
       "      <td>33</td>\n",
       "      <td>1</td>\n",
       "      <td>22.705</td>\n",
       "      <td>0</td>\n",
       "      <td>0</td>\n",
       "      <td>1</td>\n",
       "      <td>21984.47061</td>\n",
       "      <td>0</td>\n",
       "    </tr>\n",
       "    <tr>\n",
       "      <th>4</th>\n",
       "      <td>32</td>\n",
       "      <td>1</td>\n",
       "      <td>28.880</td>\n",
       "      <td>0</td>\n",
       "      <td>0</td>\n",
       "      <td>1</td>\n",
       "      <td>3866.85520</td>\n",
       "      <td>1</td>\n",
       "    </tr>\n",
       "  </tbody>\n",
       "</table>\n",
       "</div>"
      ],
      "text/plain": [
       "   age  sex     bmi  children  smoker  region      charges  insuranceclaim\n",
       "0   19    0  27.900         0       1       3  16884.92400               1\n",
       "1   18    1  33.770         1       0       2   1725.55230               1\n",
       "2   28    1  33.000         3       0       2   4449.46200               0\n",
       "3   33    1  22.705         0       0       1  21984.47061               0\n",
       "4   32    1  28.880         0       0       1   3866.85520               1"
      ]
     },
     "execution_count": 2,
     "metadata": {},
     "output_type": "execute_result"
    }
   ],
   "source": [
    "d3=pd.read_csv('sbi_insurance.csv')\n",
    "d3.head()"
   ]
  },
  {
   "cell_type": "code",
   "execution_count": 3,
   "metadata": {},
   "outputs": [
    {
     "data": {
      "text/plain": [
       "age               0\n",
       "sex               0\n",
       "bmi               0\n",
       "children          0\n",
       "smoker            0\n",
       "region            0\n",
       "charges           0\n",
       "insuranceclaim    0\n",
       "dtype: int64"
      ]
     },
     "execution_count": 3,
     "metadata": {},
     "output_type": "execute_result"
    }
   ],
   "source": [
    "d3.isnull().sum()"
   ]
  },
  {
   "cell_type": "code",
   "execution_count": 4,
   "metadata": {},
   "outputs": [],
   "source": [
    "#there are no null values"
   ]
  },
  {
   "cell_type": "code",
   "execution_count": 5,
   "metadata": {},
   "outputs": [
    {
     "data": {
      "text/html": [
       "<div>\n",
       "<style scoped>\n",
       "    .dataframe tbody tr th:only-of-type {\n",
       "        vertical-align: middle;\n",
       "    }\n",
       "\n",
       "    .dataframe tbody tr th {\n",
       "        vertical-align: top;\n",
       "    }\n",
       "\n",
       "    .dataframe thead th {\n",
       "        text-align: right;\n",
       "    }\n",
       "</style>\n",
       "<table border=\"1\" class=\"dataframe\">\n",
       "  <thead>\n",
       "    <tr style=\"text-align: right;\">\n",
       "      <th></th>\n",
       "      <th>age</th>\n",
       "      <th>sex</th>\n",
       "      <th>bmi</th>\n",
       "      <th>children</th>\n",
       "      <th>smoker</th>\n",
       "      <th>region</th>\n",
       "      <th>charges</th>\n",
       "      <th>insuranceclaim</th>\n",
       "    </tr>\n",
       "  </thead>\n",
       "  <tbody>\n",
       "    <tr>\n",
       "      <th>count</th>\n",
       "      <td>1338.000000</td>\n",
       "      <td>1338.000000</td>\n",
       "      <td>1338.000000</td>\n",
       "      <td>1338.000000</td>\n",
       "      <td>1338.000000</td>\n",
       "      <td>1338.000000</td>\n",
       "      <td>1338.000000</td>\n",
       "      <td>1338.000000</td>\n",
       "    </tr>\n",
       "    <tr>\n",
       "      <th>mean</th>\n",
       "      <td>39.207025</td>\n",
       "      <td>0.505232</td>\n",
       "      <td>30.663397</td>\n",
       "      <td>1.094918</td>\n",
       "      <td>0.204783</td>\n",
       "      <td>1.515695</td>\n",
       "      <td>13270.422265</td>\n",
       "      <td>0.585202</td>\n",
       "    </tr>\n",
       "    <tr>\n",
       "      <th>std</th>\n",
       "      <td>14.049960</td>\n",
       "      <td>0.500160</td>\n",
       "      <td>6.098187</td>\n",
       "      <td>1.205493</td>\n",
       "      <td>0.403694</td>\n",
       "      <td>1.104885</td>\n",
       "      <td>12110.011237</td>\n",
       "      <td>0.492871</td>\n",
       "    </tr>\n",
       "    <tr>\n",
       "      <th>min</th>\n",
       "      <td>18.000000</td>\n",
       "      <td>0.000000</td>\n",
       "      <td>15.960000</td>\n",
       "      <td>0.000000</td>\n",
       "      <td>0.000000</td>\n",
       "      <td>0.000000</td>\n",
       "      <td>1121.873900</td>\n",
       "      <td>0.000000</td>\n",
       "    </tr>\n",
       "    <tr>\n",
       "      <th>25%</th>\n",
       "      <td>27.000000</td>\n",
       "      <td>0.000000</td>\n",
       "      <td>26.296250</td>\n",
       "      <td>0.000000</td>\n",
       "      <td>0.000000</td>\n",
       "      <td>1.000000</td>\n",
       "      <td>4740.287150</td>\n",
       "      <td>0.000000</td>\n",
       "    </tr>\n",
       "    <tr>\n",
       "      <th>50%</th>\n",
       "      <td>39.000000</td>\n",
       "      <td>1.000000</td>\n",
       "      <td>30.400000</td>\n",
       "      <td>1.000000</td>\n",
       "      <td>0.000000</td>\n",
       "      <td>2.000000</td>\n",
       "      <td>9382.033000</td>\n",
       "      <td>1.000000</td>\n",
       "    </tr>\n",
       "    <tr>\n",
       "      <th>75%</th>\n",
       "      <td>51.000000</td>\n",
       "      <td>1.000000</td>\n",
       "      <td>34.693750</td>\n",
       "      <td>2.000000</td>\n",
       "      <td>0.000000</td>\n",
       "      <td>2.000000</td>\n",
       "      <td>16639.912515</td>\n",
       "      <td>1.000000</td>\n",
       "    </tr>\n",
       "    <tr>\n",
       "      <th>max</th>\n",
       "      <td>64.000000</td>\n",
       "      <td>1.000000</td>\n",
       "      <td>53.130000</td>\n",
       "      <td>5.000000</td>\n",
       "      <td>1.000000</td>\n",
       "      <td>3.000000</td>\n",
       "      <td>63770.428010</td>\n",
       "      <td>1.000000</td>\n",
       "    </tr>\n",
       "  </tbody>\n",
       "</table>\n",
       "</div>"
      ],
      "text/plain": [
       "               age          sex          bmi     children       smoker  \\\n",
       "count  1338.000000  1338.000000  1338.000000  1338.000000  1338.000000   \n",
       "mean     39.207025     0.505232    30.663397     1.094918     0.204783   \n",
       "std      14.049960     0.500160     6.098187     1.205493     0.403694   \n",
       "min      18.000000     0.000000    15.960000     0.000000     0.000000   \n",
       "25%      27.000000     0.000000    26.296250     0.000000     0.000000   \n",
       "50%      39.000000     1.000000    30.400000     1.000000     0.000000   \n",
       "75%      51.000000     1.000000    34.693750     2.000000     0.000000   \n",
       "max      64.000000     1.000000    53.130000     5.000000     1.000000   \n",
       "\n",
       "            region       charges  insuranceclaim  \n",
       "count  1338.000000   1338.000000     1338.000000  \n",
       "mean      1.515695  13270.422265        0.585202  \n",
       "std       1.104885  12110.011237        0.492871  \n",
       "min       0.000000   1121.873900        0.000000  \n",
       "25%       1.000000   4740.287150        0.000000  \n",
       "50%       2.000000   9382.033000        1.000000  \n",
       "75%       2.000000  16639.912515        1.000000  \n",
       "max       3.000000  63770.428010        1.000000  "
      ]
     },
     "execution_count": 5,
     "metadata": {},
     "output_type": "execute_result"
    }
   ],
   "source": [
    "d3.describe()"
   ]
  },
  {
   "cell_type": "code",
   "execution_count": 6,
   "metadata": {},
   "outputs": [],
   "source": [
    "#there are 1338 rows and 8 attributes including the target insurance claim\n",
    "#mean is greater than median for age,bmi smoker and charges.so they are right skewed datas and others are left skewed\n",
    "#there is great difference between  75% and max for charges,so there are outliers present in this dataset"
   ]
  },
  {
   "cell_type": "code",
   "execution_count": 7,
   "metadata": {},
   "outputs": [
    {
     "data": {
      "text/plain": [
       "<matplotlib.axes._subplots.AxesSubplot at 0x2c07bd027c0>"
      ]
     },
     "execution_count": 7,
     "metadata": {},
     "output_type": "execute_result"
    },
    {
     "data": {
      "image/png": "[encoded data removed]",
      "text/plain": [
       "<Figure size 576x360 with 2 Axes>"
      ]
     },
     "metadata": {
      "needs_background": "light"
     },
     "output_type": "display_data"
    }
   ],
   "source": [
    "d3cor=d3.corr()\n",
    "plt.figure(figsize=(8,5))\n",
    "sns.heatmap(d3cor,cmap='Blues',annot=True)"
   ]
  },
  {
   "cell_type": "code",
   "execution_count": 8,
   "metadata": {},
   "outputs": [],
   "source": [
    "#insurance claim has a negative correlation with no.of children\n",
    "#it is highly correlated with bmi,smoking habit and their hospital expenses"
   ]
  },
  {
   "cell_type": "code",
   "execution_count": 9,
   "metadata": {},
   "outputs": [],
   "source": [
    "collist=d3.columns.values\n",
    "ncol=8\n",
    "nrows=10"
   ]
  },
  {
   "cell_type": "code",
   "execution_count": 10,
   "metadata": {},
   "outputs": [
    {
     "data": {
      "image/png": "[encoded data removed]",
      "text/plain": [
       "<Figure size 576x2880 with 8 Axes>"
      ]
     },
     "metadata": {
      "needs_background": "light"
     },
     "output_type": "display_data"
    }
   ],
   "source": [
    "plt.figure(figsize=(ncol,5*ncol))\n",
    "for i in range(0,len(collist)):\n",
    "    plt.subplot(nrows,ncol,i+1)\n",
    "    sns.boxplot(d3[collist[i]],color='green',orient='v')\n",
    "    plt.tight_layout()"
   ]
  },
  {
   "cell_type": "code",
   "execution_count": 11,
   "metadata": {},
   "outputs": [],
   "source": [
    "#there are outliers present in charges and bmi"
   ]
  },
  {
   "cell_type": "code",
   "execution_count": 12,
   "metadata": {},
   "outputs": [
    {
     "data": {
      "text/plain": [
       "age               0.055673\n",
       "sex              -0.020951\n",
       "bmi               0.284047\n",
       "children          0.938380\n",
       "smoker            1.464766\n",
       "region           -0.038101\n",
       "charges           1.515880\n",
       "insuranceclaim   -0.346254\n",
       "dtype: float64"
      ]
     },
     "execution_count": 12,
     "metadata": {},
     "output_type": "execute_result"
    }
   ],
   "source": [
    "d3.skew()"
   ]
  },
  {
   "cell_type": "code",
   "execution_count": 13,
   "metadata": {},
   "outputs": [],
   "source": [
    "#smoker and charges columns are highly skewed"
   ]
  },
  {
   "cell_type": "code",
   "execution_count": 14,
   "metadata": {},
   "outputs": [],
   "source": [
    "for col in d3.columns:\n",
    "    if d3.skew().loc[col]>0.55:\n",
    "        d3[col]=np.log1p(d3[col])"
   ]
  },
  {
   "cell_type": "code",
   "execution_count": 15,
   "metadata": {},
   "outputs": [
    {
     "data": {
      "image/png": "[encoded data removed]",
      "text/plain": [
       "<Figure size 1440x1440 with 8 Axes>"
      ]
     },
     "metadata": {
      "needs_background": "light"
     },
     "output_type": "display_data"
    }
   ],
   "source": [
    "plt.figure(figsize=(20,20))\n",
    "for i in range(0,len(collist)):\n",
    "    plt.subplot(nrows,ncol,i+1)\n",
    "    sns.distplot(d3[collist[i]])"
   ]
  },
  {
   "cell_type": "code",
   "execution_count": 16,
   "metadata": {},
   "outputs": [
    {
     "data": {
      "text/plain": [
       "array([[1.43876426, 1.0105187 , 0.45332   , ..., 1.34390459, 0.69138533,\n",
       "        0.84190989],\n",
       "       [1.50996545, 0.98959079, 0.5096211 , ..., 0.43849455, 1.78986137,\n",
       "        0.84190989],\n",
       "       [0.79795355, 0.98959079, 0.38330685, ..., 0.43849455, 0.75956237,\n",
       "        1.18777557],\n",
       "       ...,\n",
       "       [1.50996545, 1.0105187 , 1.0148781 , ..., 0.43849455, 1.85192132,\n",
       "        0.84190989],\n",
       "       [1.29636188, 1.0105187 , 0.79781341, ..., 1.34390459, 1.62503295,\n",
       "        1.18777557],\n",
       "       [1.55168573, 1.0105187 , 0.26138796, ..., 0.46691549, 1.2851735 ,\n",
       "        0.84190989]])"
      ]
     },
     "execution_count": 16,
     "metadata": {},
     "output_type": "execute_result"
    }
   ],
   "source": [
    "import numpy as np\n",
    "from scipy.stats import zscore\n",
    "z=np.abs(zscore(d3))\n",
    "z"
   ]
  },
  {
   "cell_type": "code",
   "execution_count": 17,
   "metadata": {},
   "outputs": [
    {
     "name": "stdout",
     "output_type": "stream",
     "text": [
      "(array([ 116,  847, 1047, 1317], dtype=int64), array([2, 2, 2, 2], dtype=int64))\n"
     ]
    }
   ],
   "source": [
    "threshold=3\n",
    "print(np.where(z>3))"
   ]
  },
  {
   "cell_type": "code",
   "execution_count": 18,
   "metadata": {},
   "outputs": [
    {
     "name": "stdout",
     "output_type": "stream",
     "text": [
      "(1338, 8)\n",
      "(1334, 8)\n"
     ]
    }
   ],
   "source": [
    "d3_new=d3[(z<3).all(axis=1)]\n",
    "print(d3.shape)\n",
    "print(d3_new.shape)"
   ]
  },
  {
   "cell_type": "code",
   "execution_count": 19,
   "metadata": {},
   "outputs": [],
   "source": [
    "#4 rows are deleted due to outliers"
   ]
  },
  {
   "cell_type": "code",
   "execution_count": 20,
   "metadata": {},
   "outputs": [],
   "source": [
    "from sklearn.linear_model import LogisticRegression\n",
    "from sklearn.model_selection import train_test_split\n",
    "from sklearn.naive_bayes import GaussianNB\n",
    "from sklearn.svm import SVC\n",
    "from sklearn.tree import DecisionTreeClassifier\n",
    "from sklearn.neighbors import KNeighborsClassifier\n",
    "from sklearn.metrics import accuracy_score,confusion_matrix,classification_report"
   ]
  },
  {
   "cell_type": "code",
   "execution_count": 21,
   "metadata": {},
   "outputs": [
    {
     "data": {
      "text/html": [
       "<div>\n",
       "<style scoped>\n",
       "    .dataframe tbody tr th:only-of-type {\n",
       "        vertical-align: middle;\n",
       "    }\n",
       "\n",
       "    .dataframe tbody tr th {\n",
       "        vertical-align: top;\n",
       "    }\n",
       "\n",
       "    .dataframe thead th {\n",
       "        text-align: right;\n",
       "    }\n",
       "</style>\n",
       "<table border=\"1\" class=\"dataframe\">\n",
       "  <thead>\n",
       "    <tr style=\"text-align: right;\">\n",
       "      <th></th>\n",
       "      <th>age</th>\n",
       "      <th>sex</th>\n",
       "      <th>bmi</th>\n",
       "      <th>children</th>\n",
       "      <th>smoker</th>\n",
       "      <th>region</th>\n",
       "      <th>charges</th>\n",
       "    </tr>\n",
       "  </thead>\n",
       "  <tbody>\n",
       "    <tr>\n",
       "      <th>0</th>\n",
       "      <td>19</td>\n",
       "      <td>0</td>\n",
       "      <td>27.900</td>\n",
       "      <td>0.000000</td>\n",
       "      <td>0.693147</td>\n",
       "      <td>3</td>\n",
       "      <td>9.734236</td>\n",
       "    </tr>\n",
       "    <tr>\n",
       "      <th>1</th>\n",
       "      <td>18</td>\n",
       "      <td>1</td>\n",
       "      <td>33.770</td>\n",
       "      <td>0.693147</td>\n",
       "      <td>0.000000</td>\n",
       "      <td>2</td>\n",
       "      <td>7.453882</td>\n",
       "    </tr>\n",
       "    <tr>\n",
       "      <th>2</th>\n",
       "      <td>28</td>\n",
       "      <td>1</td>\n",
       "      <td>33.000</td>\n",
       "      <td>1.386294</td>\n",
       "      <td>0.000000</td>\n",
       "      <td>2</td>\n",
       "      <td>8.400763</td>\n",
       "    </tr>\n",
       "    <tr>\n",
       "      <th>3</th>\n",
       "      <td>33</td>\n",
       "      <td>1</td>\n",
       "      <td>22.705</td>\n",
       "      <td>0.000000</td>\n",
       "      <td>0.000000</td>\n",
       "      <td>1</td>\n",
       "      <td>9.998137</td>\n",
       "    </tr>\n",
       "    <tr>\n",
       "      <th>4</th>\n",
       "      <td>32</td>\n",
       "      <td>1</td>\n",
       "      <td>28.880</td>\n",
       "      <td>0.000000</td>\n",
       "      <td>0.000000</td>\n",
       "      <td>1</td>\n",
       "      <td>8.260455</td>\n",
       "    </tr>\n",
       "    <tr>\n",
       "      <th>...</th>\n",
       "      <td>...</td>\n",
       "      <td>...</td>\n",
       "      <td>...</td>\n",
       "      <td>...</td>\n",
       "      <td>...</td>\n",
       "      <td>...</td>\n",
       "      <td>...</td>\n",
       "    </tr>\n",
       "    <tr>\n",
       "      <th>1333</th>\n",
       "      <td>50</td>\n",
       "      <td>1</td>\n",
       "      <td>30.970</td>\n",
       "      <td>1.386294</td>\n",
       "      <td>0.000000</td>\n",
       "      <td>1</td>\n",
       "      <td>9.268755</td>\n",
       "    </tr>\n",
       "    <tr>\n",
       "      <th>1334</th>\n",
       "      <td>18</td>\n",
       "      <td>0</td>\n",
       "      <td>31.920</td>\n",
       "      <td>0.000000</td>\n",
       "      <td>0.000000</td>\n",
       "      <td>0</td>\n",
       "      <td>7.699381</td>\n",
       "    </tr>\n",
       "    <tr>\n",
       "      <th>1335</th>\n",
       "      <td>18</td>\n",
       "      <td>0</td>\n",
       "      <td>36.850</td>\n",
       "      <td>0.000000</td>\n",
       "      <td>0.000000</td>\n",
       "      <td>2</td>\n",
       "      <td>7.396847</td>\n",
       "    </tr>\n",
       "    <tr>\n",
       "      <th>1336</th>\n",
       "      <td>21</td>\n",
       "      <td>0</td>\n",
       "      <td>25.800</td>\n",
       "      <td>0.000000</td>\n",
       "      <td>0.000000</td>\n",
       "      <td>3</td>\n",
       "      <td>7.605365</td>\n",
       "    </tr>\n",
       "    <tr>\n",
       "      <th>1337</th>\n",
       "      <td>61</td>\n",
       "      <td>0</td>\n",
       "      <td>29.070</td>\n",
       "      <td>0.000000</td>\n",
       "      <td>0.693147</td>\n",
       "      <td>1</td>\n",
       "      <td>10.279948</td>\n",
       "    </tr>\n",
       "  </tbody>\n",
       "</table>\n",
       "<p>1334 rows × 7 columns</p>\n",
       "</div>"
      ],
      "text/plain": [
       "      age  sex     bmi  children    smoker  region    charges\n",
       "0      19    0  27.900  0.000000  0.693147       3   9.734236\n",
       "1      18    1  33.770  0.693147  0.000000       2   7.453882\n",
       "2      28    1  33.000  1.386294  0.000000       2   8.400763\n",
       "3      33    1  22.705  0.000000  0.000000       1   9.998137\n",
       "4      32    1  28.880  0.000000  0.000000       1   8.260455\n",
       "...   ...  ...     ...       ...       ...     ...        ...\n",
       "1333   50    1  30.970  1.386294  0.000000       1   9.268755\n",
       "1334   18    0  31.920  0.000000  0.000000       0   7.699381\n",
       "1335   18    0  36.850  0.000000  0.000000       2   7.396847\n",
       "1336   21    0  25.800  0.000000  0.000000       3   7.605365\n",
       "1337   61    0  29.070  0.000000  0.693147       1  10.279948\n",
       "\n",
       "[1334 rows x 7 columns]"
      ]
     },
     "execution_count": 21,
     "metadata": {},
     "output_type": "execute_result"
    }
   ],
   "source": [
    "x=d3_new.iloc[:,:-1]\n",
    "x"
   ]
  },
  {
   "cell_type": "code",
   "execution_count": 22,
   "metadata": {},
   "outputs": [
    {
     "data": {
      "text/plain": [
       "0       1\n",
       "1       1\n",
       "2       0\n",
       "3       0\n",
       "4       1\n",
       "       ..\n",
       "1333    0\n",
       "1334    1\n",
       "1335    1\n",
       "1336    0\n",
       "1337    1\n",
       "Name: insuranceclaim, Length: 1334, dtype: int64"
      ]
     },
     "execution_count": 22,
     "metadata": {},
     "output_type": "execute_result"
    }
   ],
   "source": [
    "y=d3_new.iloc[:,-1]\n",
    "y"
   ]
  },
  {
   "cell_type": "code",
   "execution_count": 23,
   "metadata": {},
   "outputs": [
    {
     "data": {
      "text/plain": [
       "array([[-1.44224939, -1.00752456, -0.4503585 , ...,  1.97140734,\n",
       "         1.3435945 ,  0.69173528],\n",
       "       [-1.51352831,  0.99253164,  0.5281905 , ..., -0.50725184,\n",
       "         0.43927812, -1.79514711],\n",
       "       [-0.80073908,  0.99253164,  0.39982888, ..., -0.50725184,\n",
       "         0.43927812, -0.76250797],\n",
       "       ...,\n",
       "       [-1.51352831, -1.00752456,  1.041637  , ..., -0.50725184,\n",
       "         0.43927812, -1.85734801],\n",
       "       [-1.29969154, -1.00752456, -0.80043566, ..., -0.50725184,\n",
       "         1.3435945 , -1.6299443 ],\n",
       "       [ 1.55146537, -1.00752456, -0.25531552, ...,  1.97140734,\n",
       "        -0.46503826,  1.28687213]])"
      ]
     },
     "execution_count": 23,
     "metadata": {},
     "output_type": "execute_result"
    }
   ],
   "source": [
    "from sklearn.preprocessing import StandardScaler\n",
    "sc=StandardScaler()\n",
    "x=sc.fit_transform(x)\n",
    "x"
   ]
  },
  {
   "cell_type": "code",
   "execution_count": 24,
   "metadata": {},
   "outputs": [
    {
     "name": "stdout",
     "output_type": "stream",
     "text": [
      "max accuracy score corresponding to 47 is 0.9965986394557823\n"
     ]
    }
   ],
   "source": [
    "from sklearn.metrics import accuracy_score\n",
    "from sklearn.tree import DecisionTreeClassifier\n",
    "dtc=  DecisionTreeClassifier()\n",
    "\n",
    "max_score=0\n",
    "for r_state in range(40,100):\n",
    "    x_train,x_test,y_train,y_test=train_test_split(x,y,random_state=r_state,test_size=0.22)\n",
    "   \n",
    "    dtc.fit(x_train,y_train)\n",
    "    y_pred=dtc.predict(x_test)\n",
    "    acc_scr=accuracy_score(y_test,y_pred)\n",
    "    if acc_scr>max_score:\n",
    "        max_score=acc_scr\n",
    "        final_r_state=r_state\n",
    "print(\"max accuracy score corresponding to\",final_r_state,\"is\",max_score)"
   ]
  },
  {
   "cell_type": "code",
   "execution_count": 25,
   "metadata": {},
   "outputs": [],
   "source": [
    "x_train,x_test,y_train,y_test=train_test_split(x,y,test_size=.22,random_state=47)"
   ]
  },
  {
   "cell_type": "code",
   "execution_count": 26,
   "metadata": {},
   "outputs": [],
   "source": [
    "lr=LogisticRegression()"
   ]
  },
  {
   "cell_type": "code",
   "execution_count": 27,
   "metadata": {},
   "outputs": [
    {
     "name": "stdout",
     "output_type": "stream",
     "text": [
      "0.826530612244898\n",
      "[[101  27]\n",
      " [ 24 142]]\n",
      "              precision    recall  f1-score   support\n",
      "\n",
      "           0       0.81      0.79      0.80       128\n",
      "           1       0.84      0.86      0.85       166\n",
      "\n",
      "    accuracy                           0.83       294\n",
      "   macro avg       0.82      0.82      0.82       294\n",
      "weighted avg       0.83      0.83      0.83       294\n",
      "\n"
     ]
    }
   ],
   "source": [
    "lr.fit(x_train,y_train)\n",
    "lr.score(x_train,y_train)\n",
    "predlr=lr.predict(x_test)\n",
    "print(accuracy_score(y_test,predlr))\n",
    "print(confusion_matrix(y_test,predlr))\n",
    "print(classification_report(y_test,predlr))"
   ]
  },
  {
   "cell_type": "code",
   "execution_count": 28,
   "metadata": {},
   "outputs": [],
   "source": [
    "#AUC-ROC CURVE\n",
    "from sklearn.metrics import roc_curve\n",
    "import matplotlib.pyplot as plt\n",
    "from sklearn.metrics import roc_auc_score"
   ]
  },
  {
   "cell_type": "code",
   "execution_count": 29,
   "metadata": {},
   "outputs": [
    {
     "data": {
      "text/plain": [
       "array([0.99908967, 0.97267529, 0.44431019, 0.06422753, 0.40338919,\n",
       "       0.99175097, 0.03849757, 0.73014332, 0.78115338, 0.81994955,\n",
       "       0.9215112 , 0.63098368, 0.9953595 , 0.97575341, 0.9909463 ,\n",
       "       0.32520592, 0.0253634 , 0.01081113, 0.85651399, 0.92846454,\n",
       "       0.70316884, 0.96578653, 0.59104146, 0.08555833, 0.11694043,\n",
       "       0.99563093, 0.35820767, 0.6879964 , 0.99662858, 0.07876178,\n",
       "       0.9610351 , 0.02021983, 0.93589096, 0.8454228 , 0.85593182,\n",
       "       0.75126645, 0.01718202, 0.6102671 , 0.8586206 , 0.50759652,\n",
       "       0.20084788, 0.66933997, 0.01040654, 0.0084529 , 0.18130138,\n",
       "       0.89800679, 0.53422689, 0.97278913, 0.43957447, 0.01047363,\n",
       "       0.02931488, 0.62866214, 0.90271976, 0.93395084, 0.98256931,\n",
       "       0.54729321, 0.96101429, 0.88606021, 0.01945376, 0.69023293,\n",
       "       0.09877076, 0.26645208, 0.01258684, 0.99616488, 0.98916614,\n",
       "       0.03260795, 0.58057936, 0.08922349, 0.02547527, 0.81396923,\n",
       "       0.99798192, 0.21606717, 0.05554292, 0.84236134, 0.91580182,\n",
       "       0.12377765, 0.16932   , 0.03118142, 0.98542558, 0.09522023,\n",
       "       0.97689574, 0.23252672, 0.94353533, 0.0159629 , 0.0660155 ,\n",
       "       0.20618317, 0.36234235, 0.98517418, 0.04735526, 0.99867226,\n",
       "       0.80617716, 0.04153714, 0.81404205, 0.99883297, 0.94489607,\n",
       "       0.37053178, 0.63939675, 0.95798467, 0.63043237, 0.09201998,\n",
       "       0.52261407, 0.55584627, 0.85010646, 0.7993597 , 0.93667392,\n",
       "       0.69186289, 0.43122878, 0.03389623, 0.25823331, 0.11542392,\n",
       "       0.96312595, 0.31572683, 0.90753949, 0.96135128, 0.36820938,\n",
       "       0.99298992, 0.07513732, 0.9850445 , 0.23474451, 0.00810476,\n",
       "       0.66346234, 0.19230475, 0.99523504, 0.81702884, 0.0198564 ,\n",
       "       0.09368581, 0.06102665, 0.96365172, 0.91238712, 0.99815868,\n",
       "       0.42833911, 0.99947732, 0.99963486, 0.02218176, 0.63672113,\n",
       "       0.87950845, 0.99428238, 0.99701637, 0.83081264, 0.88266803,\n",
       "       0.75907199, 0.89327977, 0.43808068, 0.41635273, 0.19983992,\n",
       "       0.44685033, 0.81274536, 0.93185836, 0.09949255, 0.99936979,\n",
       "       0.11174356, 0.72420177, 0.04037427, 0.69021685, 0.99993901,\n",
       "       0.33144145, 0.19458558, 0.75393027, 0.53274228, 0.09318972,\n",
       "       0.99845263, 0.31219407, 0.11758017, 0.52988517, 0.19904043,\n",
       "       0.25746311, 0.54233167, 0.98677659, 0.98734791, 0.67742431,\n",
       "       0.88097982, 0.31165846, 0.17621315, 0.78293531, 0.73596295,\n",
       "       0.28680933, 0.73895649, 0.50080565, 0.99981987, 0.02972613,\n",
       "       0.47584551, 0.99833807, 0.02326378, 0.98236961, 0.61951833,\n",
       "       0.2498011 , 0.05688268, 0.25261573, 0.05765068, 0.51496351,\n",
       "       0.02091661, 0.5755018 , 0.98712223, 0.28318622, 0.79318423,\n",
       "       0.25075379, 0.15990873, 0.95587345, 0.06251919, 0.32525533,\n",
       "       0.99250166, 0.98544845, 0.89364494, 0.67367458, 0.27051665,\n",
       "       0.01829912, 0.12508391, 0.99459644, 0.87747908, 0.86001156,\n",
       "       0.88922294, 0.7163637 , 0.94578583, 0.11482086, 0.21654999,\n",
       "       0.99948858, 0.50240888, 0.99951543, 0.99190986, 0.11508409,\n",
       "       0.03344996, 0.08800414, 0.56046643, 0.93696746, 0.44381325,\n",
       "       0.06527766, 0.30898607, 0.99379617, 0.05577456, 0.97507844,\n",
       "       0.10504687, 0.03904589, 0.58185852, 0.93462666, 0.86307267,\n",
       "       0.99254681, 0.44844838, 0.99127153, 0.99404081, 0.64693725,\n",
       "       0.04504799, 0.95758723, 0.48950081, 0.99779007, 0.99582472,\n",
       "       0.39191762, 0.84079312, 0.512477  , 0.99972829, 0.18484195,\n",
       "       0.99128039, 0.06225614, 0.38436791, 0.0075086 , 0.73958127,\n",
       "       0.29348398, 0.04002057, 0.96750415, 0.86382952, 0.85725062,\n",
       "       0.5440628 , 0.83343867, 0.21301235, 0.96480851, 0.21522567,\n",
       "       0.04105425, 0.95962639, 0.9930586 , 0.04889931, 0.0204705 ,\n",
       "       0.64514388, 0.79225654, 0.03117253, 0.82806365, 0.95793729,\n",
       "       0.99985379, 0.99300683, 0.98838866, 0.00291751, 0.91740554,\n",
       "       0.17217779, 0.9351571 , 0.10225204, 0.37089118, 0.64692367,\n",
       "       0.69287841, 0.34815968, 0.97725971, 0.65294622, 0.68256618,\n",
       "       0.53972086, 0.13710031, 0.26445612, 0.00296449])"
      ]
     },
     "execution_count": 29,
     "metadata": {},
     "output_type": "execute_result"
    }
   ],
   "source": [
    "y_pred_prob=lr.predict_proba(x_test)[:,1]\n",
    "y_pred_prob"
   ]
  },
  {
   "cell_type": "code",
   "execution_count": 30,
   "metadata": {},
   "outputs": [],
   "source": [
    "fpr,tpr,thresholds=roc_curve(y_test,y_pred_prob)"
   ]
  },
  {
   "cell_type": "code",
   "execution_count": 31,
   "metadata": {},
   "outputs": [
    {
     "data": {
      "text/plain": [
       "array([0.       , 0.       , 0.       , 0.015625 , 0.015625 , 0.0234375,\n",
       "       0.0234375, 0.03125  , 0.03125  , 0.0390625, 0.0390625, 0.046875 ,\n",
       "       0.046875 , 0.0546875, 0.0546875, 0.0625   , 0.0625   , 0.0703125,\n",
       "       0.0703125, 0.078125 , 0.078125 , 0.0859375, 0.0859375, 0.09375  ,\n",
       "       0.09375  , 0.1015625, 0.1015625, 0.109375 , 0.109375 , 0.1171875,\n",
       "       0.1171875, 0.1328125, 0.1328125, 0.15625  , 0.15625  , 0.1640625,\n",
       "       0.1640625, 0.171875 , 0.171875 , 0.2109375, 0.2109375, 0.25     ,\n",
       "       0.25     , 0.296875 , 0.296875 , 0.3828125, 0.3828125, 0.46875  ,\n",
       "       0.46875  , 0.6484375, 0.6484375, 0.65625  , 0.65625  , 0.7109375,\n",
       "       0.7109375, 0.75     , 0.75     , 0.7578125, 0.7578125, 0.8046875,\n",
       "       0.8046875, 0.8671875, 0.8671875, 0.9140625, 0.9140625, 0.9765625,\n",
       "       0.9765625, 1.       ])"
      ]
     },
     "execution_count": 31,
     "metadata": {},
     "output_type": "execute_result"
    }
   ],
   "source": [
    "fpr"
   ]
  },
  {
   "cell_type": "code",
   "execution_count": 32,
   "metadata": {},
   "outputs": [
    {
     "data": {
      "text/plain": [
       "array([0.        , 0.0060241 , 0.55421687, 0.55421687, 0.59638554,\n",
       "       0.59638554, 0.60843373, 0.60843373, 0.62048193, 0.62048193,\n",
       "       0.6686747 , 0.6686747 , 0.69277108, 0.69277108, 0.69879518,\n",
       "       0.69879518, 0.71084337, 0.71084337, 0.72891566, 0.72891566,\n",
       "       0.73493976, 0.73493976, 0.75301205, 0.75301205, 0.76506024,\n",
       "       0.76506024, 0.77108434, 0.77108434, 0.79518072, 0.79518072,\n",
       "       0.80120482, 0.80120482, 0.81927711, 0.81927711, 0.84337349,\n",
       "       0.84337349, 0.84939759, 0.84939759, 0.85542169, 0.85542169,\n",
       "       0.86144578, 0.86144578, 0.87951807, 0.87951807, 0.89156627,\n",
       "       0.89156627, 0.89759036, 0.89759036, 0.90361446, 0.90361446,\n",
       "       0.90963855, 0.90963855, 0.91566265, 0.91566265, 0.93373494,\n",
       "       0.93373494, 0.94578313, 0.94578313, 0.96385542, 0.96385542,\n",
       "       0.97590361, 0.97590361, 0.98192771, 0.98192771, 0.9939759 ,\n",
       "       0.9939759 , 1.        , 1.        ])"
      ]
     },
     "execution_count": 32,
     "metadata": {},
     "output_type": "execute_result"
    }
   ],
   "source": [
    "tpr"
   ]
  },
  {
   "cell_type": "code",
   "execution_count": 33,
   "metadata": {},
   "outputs": [
    {
     "data": {
      "text/plain": [
       "array([1.99993901, 0.99993901, 0.88097982, 0.87747908, 0.85593182,\n",
       "       0.85010646, 0.84236134, 0.84079312, 0.83081264, 0.82806365,\n",
       "       0.79318423, 0.79225654, 0.75393027, 0.75126645, 0.73958127,\n",
       "       0.73895649, 0.73014332, 0.72420177, 0.69287841, 0.69186289,\n",
       "       0.69023293, 0.69021685, 0.67742431, 0.67367458, 0.66346234,\n",
       "       0.65294622, 0.64693725, 0.64692367, 0.63098368, 0.63043237,\n",
       "       0.62866214, 0.6102671 , 0.58057936, 0.55584627, 0.53972086,\n",
       "       0.53422689, 0.53274228, 0.52988517, 0.52261407, 0.50080565,\n",
       "       0.48950081, 0.44381325, 0.43122878, 0.37089118, 0.36820938,\n",
       "       0.29348398, 0.28680933, 0.23252672, 0.21654999, 0.11482086,\n",
       "       0.11174356, 0.10504687, 0.10225204, 0.08922349, 0.07876178,\n",
       "       0.06251919, 0.06102665, 0.05765068, 0.05554292, 0.04037427,\n",
       "       0.03904589, 0.02931488, 0.02547527, 0.02021983, 0.01945376,\n",
       "       0.0084529 , 0.00810476, 0.00291751])"
      ]
     },
     "execution_count": 33,
     "metadata": {},
     "output_type": "execute_result"
    }
   ],
   "source": [
    "thresholds"
   ]
  },
  {
   "cell_type": "code",
   "execution_count": 34,
   "metadata": {},
   "outputs": [
    {
     "data": {
      "text/plain": [
       "<function matplotlib.pyplot.show(*args, **kw)>"
      ]
     },
     "execution_count": 34,
     "metadata": {},
     "output_type": "execute_result"
    },
    {
     "data": {
      "image/png": "[encoded data removed]",
      "text/plain": [
       "<Figure size 432x288 with 1 Axes>"
      ]
     },
     "metadata": {
      "needs_background": "light"
     },
     "output_type": "display_data"
    }
   ],
   "source": [
    "plt.plot([0,1],[0,1],'k--')\n",
    "plt.plot(fpr,tpr,label='Logistic Regression')\n",
    "plt.xlabel('false positive rate')\n",
    "plt.ylabel('true positive rate')\n",
    "plt.title('Logistic Regression')\n",
    "plt.show"
   ]
  },
  {
   "cell_type": "code",
   "execution_count": 35,
   "metadata": {},
   "outputs": [
    {
     "name": "stdout",
     "output_type": "stream",
     "text": [
      "0.822242093373494\n"
     ]
    }
   ],
   "source": [
    "auc_score=roc_auc_score(y_test,lr.predict(x_test))\n",
    "print(auc_score)"
   ]
  },
  {
   "cell_type": "code",
   "execution_count": 36,
   "metadata": {},
   "outputs": [
    {
     "name": "stdout",
     "output_type": "stream",
     "text": [
      "0.7517006802721088\n",
      "[[113  15]\n",
      " [ 58 108]]\n",
      "              precision    recall  f1-score   support\n",
      "\n",
      "           0       0.66      0.88      0.76       128\n",
      "           1       0.88      0.65      0.75       166\n",
      "\n",
      "    accuracy                           0.75       294\n",
      "   macro avg       0.77      0.77      0.75       294\n",
      "weighted avg       0.78      0.75      0.75       294\n",
      "\n"
     ]
    }
   ],
   "source": [
    "gnb=GaussianNB()\n",
    "gnb.fit(x_train,y_train)\n",
    "predgnb=gnb.predict(x_test)\n",
    "print(accuracy_score(y_test,predgnb))\n",
    "print(confusion_matrix(y_test,predgnb))\n",
    "print(classification_report(y_test,predgnb))"
   ]
  },
  {
   "cell_type": "code",
   "execution_count": 37,
   "metadata": {},
   "outputs": [
    {
     "name": "stdout",
     "output_type": "stream",
     "text": [
      "0.8707482993197279\n",
      "[[119   9]\n",
      " [ 29 137]]\n",
      "              precision    recall  f1-score   support\n",
      "\n",
      "           0       0.80      0.93      0.86       128\n",
      "           1       0.94      0.83      0.88       166\n",
      "\n",
      "    accuracy                           0.87       294\n",
      "   macro avg       0.87      0.88      0.87       294\n",
      "weighted avg       0.88      0.87      0.87       294\n",
      "\n"
     ]
    }
   ],
   "source": [
    "svc=SVC(kernel='rbf')\n",
    "svc.fit(x_train,y_train)\n",
    "svc.score(x_train,y_train)\n",
    "predsvc=svc.predict(x_test)\n",
    "print(accuracy_score(y_test,predsvc))\n",
    "print(confusion_matrix(y_test,predsvc))\n",
    "print(classification_report(y_test,predsvc))"
   ]
  },
  {
   "cell_type": "code",
   "execution_count": 38,
   "metadata": {},
   "outputs": [
    {
     "name": "stdout",
     "output_type": "stream",
     "text": [
      "0.8537414965986394\n",
      "[[115  13]\n",
      " [ 30 136]]\n",
      "              precision    recall  f1-score   support\n",
      "\n",
      "           0       0.79      0.90      0.84       128\n",
      "           1       0.91      0.82      0.86       166\n",
      "\n",
      "    accuracy                           0.85       294\n",
      "   macro avg       0.85      0.86      0.85       294\n",
      "weighted avg       0.86      0.85      0.85       294\n",
      "\n"
     ]
    }
   ],
   "source": [
    "svc=SVC(kernel='poly')\n",
    "svc.fit(x_train,y_train)\n",
    "svc.score(x_train,y_train)\n",
    "predsvc=svc.predict(x_test)\n",
    "print(accuracy_score(y_test,predsvc))\n",
    "print(confusion_matrix(y_test,predsvc))\n",
    "print(classification_report(y_test,predsvc))"
   ]
  },
  {
   "cell_type": "code",
   "execution_count": 39,
   "metadata": {},
   "outputs": [
    {
     "name": "stdout",
     "output_type": "stream",
     "text": [
      "0.8537414965986394\n",
      "[[115  13]\n",
      " [ 30 136]]\n",
      "              precision    recall  f1-score   support\n",
      "\n",
      "           0       0.79      0.90      0.84       128\n",
      "           1       0.91      0.82      0.86       166\n",
      "\n",
      "    accuracy                           0.85       294\n",
      "   macro avg       0.85      0.86      0.85       294\n",
      "weighted avg       0.86      0.85      0.85       294\n",
      "\n"
     ]
    }
   ],
   "source": [
    "def svmkernel(ker):\n",
    "    svc=SVC(kernel=ker)\n",
    "    svc.fit(x_train,y_train)\n",
    "svc.score(x_train,y_train)\n",
    "predsvc=svc.predict(x_test)\n",
    "print(accuracy_score(y_test,predsvc))\n",
    "print(confusion_matrix(y_test,predsvc))\n",
    "print(classification_report(y_test,predsvc))"
   ]
  },
  {
   "cell_type": "code",
   "execution_count": 40,
   "metadata": {},
   "outputs": [
    {
     "name": "stdout",
     "output_type": "stream",
     "text": [
      "0.9965986394557823\n",
      "[[128   0]\n",
      " [  1 165]]\n",
      "              precision    recall  f1-score   support\n",
      "\n",
      "           0       0.99      1.00      1.00       128\n",
      "           1       1.00      0.99      1.00       166\n",
      "\n",
      "    accuracy                           1.00       294\n",
      "   macro avg       1.00      1.00      1.00       294\n",
      "weighted avg       1.00      1.00      1.00       294\n",
      "\n"
     ]
    }
   ],
   "source": [
    "dtc=DecisionTreeClassifier()\n",
    "dtc.fit(x_train,y_train)\n",
    "dtc.score(x_train,y_train)\n",
    "preddtc=dtc.predict(x_test)\n",
    "print(accuracy_score(y_test,preddtc))\n",
    "print(confusion_matrix(y_test,preddtc))\n",
    "print(classification_report(y_test,preddtc))"
   ]
  },
  {
   "cell_type": "code",
   "execution_count": 41,
   "metadata": {},
   "outputs": [
    {
     "data": {
      "text/plain": [
       "<function matplotlib.pyplot.show(*args, **kw)>"
      ]
     },
     "execution_count": 41,
     "metadata": {},
     "output_type": "execute_result"
    },
    {
     "data": {
      "image/png": "[encoded data removed]",
      "text/plain": [
       "<Figure size 432x288 with 1 Axes>"
      ]
     },
     "metadata": {
      "needs_background": "light"
     },
     "output_type": "display_data"
    }
   ],
   "source": [
    "#Decision tree curve\n",
    "y_pred_prob=dtc.predict_proba(x_test)[:,0]\n",
    "fpr,tpr,thresholds=roc_curve(y_test,y_pred_prob)\n",
    "plt.plot([0,1],[0,1],'k--')\n",
    "plt.plot(fpr,tpr,label='Decision Tree Classifier')\n",
    "plt.xlabel('false positive rate')\n",
    "plt.ylabel('true positive rate')\n",
    "plt.title('Decision Tree Classifier')\n",
    "plt.show"
   ]
  },
  {
   "cell_type": "code",
   "execution_count": 42,
   "metadata": {},
   "outputs": [
    {
     "name": "stdout",
     "output_type": "stream",
     "text": [
      "0.822242093373494\n"
     ]
    }
   ],
   "source": [
    "auc_score=roc_auc_score(y_test,lr.predict(x_test))\n",
    "print(auc_score)"
   ]
  },
  {
   "cell_type": "code",
   "execution_count": 43,
   "metadata": {},
   "outputs": [
    {
     "name": "stdout",
     "output_type": "stream",
     "text": [
      "0.8809523809523809\n",
      "[[113  15]\n",
      " [ 20 146]]\n",
      "              precision    recall  f1-score   support\n",
      "\n",
      "           0       0.85      0.88      0.87       128\n",
      "           1       0.91      0.88      0.89       166\n",
      "\n",
      "    accuracy                           0.88       294\n",
      "   macro avg       0.88      0.88      0.88       294\n",
      "weighted avg       0.88      0.88      0.88       294\n",
      "\n"
     ]
    }
   ],
   "source": [
    "knn=KNeighborsClassifier()\n",
    "knn.fit(x_train,y_train)\n",
    "knn.score(x_train,y_train)\n",
    "predknn=knn.predict(x_test)\n",
    "print(accuracy_score(y_test,predknn))\n",
    "print(confusion_matrix(y_test,predknn))\n",
    "print(classification_report(y_test,predknn))"
   ]
  },
  {
   "cell_type": "code",
   "execution_count": 44,
   "metadata": {},
   "outputs": [],
   "source": [
    "from sklearn.model_selection import cross_val_score"
   ]
  },
  {
   "cell_type": "code",
   "execution_count": 45,
   "metadata": {},
   "outputs": [
    {
     "name": "stdout",
     "output_type": "stream",
     "text": [
      "[0.85018727 0.89138577 0.87265918 0.87640449 0.85338346]\n",
      "0.8688040325532933 0.015277054802070108\n"
     ]
    }
   ],
   "source": [
    "lrscores=cross_val_score(lr,x,y,cv=5)\n",
    "print(lrscores)\n",
    "print(lrscores.mean(),lrscores.std())"
   ]
  },
  {
   "cell_type": "code",
   "execution_count": 46,
   "metadata": {},
   "outputs": [
    {
     "name": "stdout",
     "output_type": "stream",
     "text": [
      "[0.75655431 0.78651685 0.80149813 0.85393258 0.7593985 ]\n",
      "0.7915800737799554 0.035423996977585984\n"
     ]
    }
   ],
   "source": [
    "gnbscores=cross_val_score(gnb,x,y,cv=5)\n",
    "print(gnbscores)\n",
    "print(gnbscores.mean(),gnbscores.std())"
   ]
  },
  {
   "cell_type": "code",
   "execution_count": 47,
   "metadata": {},
   "outputs": [
    {
     "name": "stdout",
     "output_type": "stream",
     "text": [
      "[0.86891386 0.87640449 0.89138577 0.93258427 0.87969925]\n",
      "0.889797527526682 0.022586296995762718\n"
     ]
    }
   ],
   "source": [
    "svcscores=cross_val_score(svc,x,y,cv=5)\n",
    "print(svcscores)\n",
    "print(svcscores.mean(),svcscores.std())"
   ]
  },
  {
   "cell_type": "code",
   "execution_count": 48,
   "metadata": {},
   "outputs": [
    {
     "name": "stdout",
     "output_type": "stream",
     "text": [
      "[0.99625468 0.95505618 0.97003745 0.96629213 0.98120301]\n",
      "0.9737686913913999 0.014006198211082063\n"
     ]
    }
   ],
   "source": [
    "dtcscores=cross_val_score(dtc,x,y,cv=5)\n",
    "print(dtcscores)\n",
    "print(dtcscores.mean(),dtcscores.std())"
   ]
  },
  {
   "cell_type": "code",
   "execution_count": 49,
   "metadata": {},
   "outputs": [
    {
     "name": "stdout",
     "output_type": "stream",
     "text": [
      "[0.88014981 0.86516854 0.86142322 0.8988764  0.87969925]\n",
      "0.8770634451296783 0.013254310350749181\n"
     ]
    }
   ],
   "source": [
    "knnscores=cross_val_score(knn,x,y,cv=5)\n",
    "print(knnscores)\n",
    "print(knnscores.mean(),knnscores.std())"
   ]
  },
  {
   "cell_type": "code",
   "execution_count": 50,
   "metadata": {},
   "outputs": [
    {
     "data": {
      "text/plain": [
       "['dtc_sbi.pkl']"
      ]
     },
     "execution_count": 50,
     "metadata": {},
     "output_type": "execute_result"
    }
   ],
   "source": [
    "import joblib\n",
    "joblib.dump(dtc,'dtc_sbi.pkl')"
   ]
  },
  {
   "cell_type": "code",
   "execution_count": null,
   "metadata": {},
   "outputs": [],
   "source": []
  }
 ],
 "metadata": {
  "kernelspec": {
   "display_name": "Python 3",
   "language": "python",
   "name": "python3"
  },
  "language_info": {
   "codemirror_mode": {
    "name": "ipython",
    "version": 3
   },
   "file_extension": ".py",
   "mimetype": "text/x-python",
   "name": "python",
   "nbconvert_exporter": "python",
   "pygments_lexer": "ipython3",
   "version": "3.8.3"
  }
 },
 "nbformat": 4,
 "nbformat_minor": 4
}
